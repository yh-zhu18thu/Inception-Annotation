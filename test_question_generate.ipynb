{
 "cells": [
  {
   "cell_type": "code",
   "execution_count": 1,
   "metadata": {},
   "outputs": [],
   "source": [
    "from question_generater import QuestionGenerator\n"
   ]
  },
  {
   "cell_type": "code",
   "execution_count": 2,
   "metadata": {},
   "outputs": [],
   "source": [
    "qg = QuestionGenerator()"
   ]
  },
  {
   "cell_type": "code",
   "execution_count": 3,
   "metadata": {},
   "outputs": [
    {
     "name": "stdout",
     "output_type": "stream",
     "text": [
      "user 0 finished, cnt:60, single_commands0\n",
      "user 0 finished, cnt:60, single_commands0\n",
      "user 0 finished, cnt:60, single_commands0\n",
      "user 0 finished, cnt:60, single_commands0\n",
      "user 0 finished, cnt:60, single_commands0\n",
      "user 0 finished, cnt:60, single_commands0\n",
      "user 1 finished, cnt:60, single_commands0\n",
      "user 2 finished, cnt:60, single_commands0\n",
      "user 2 finished, cnt:60, single_commands0\n",
      "user 3 finished, cnt:60, single_commands0\n",
      "user 3 finished, cnt:60, single_commands0\n",
      "user 4 finished, cnt:60, single_commands0\n",
      "user 4 finished, cnt:60, single_commands0\n",
      "user 5 finished, cnt:60, single_commands0\n",
      "user 5 finished, cnt:60, single_commands0\n",
      "user 6 finished, cnt:60, single_commands0\n",
      "user 6 finished, cnt:60, single_commands0\n",
      "user 7 finished, cnt:60, single_commands0\n",
      "user 7 finished, cnt:60, single_commands0\n",
      "user 8 finished, cnt:60, single_commands0\n",
      "user 8 finished, cnt:60, single_commands0\n",
      "user 8 finished, cnt:60, single_commands0\n",
      "user 9 finished, cnt:60, single_commands0\n",
      "user 9 finished, cnt:60, single_commands0\n",
      "user 10 finished, cnt:60, single_commands0\n",
      "user 10 finished, cnt:60, single_commands0\n",
      "user 10 finished, cnt:60, single_commands0\n",
      "user 10 finished, cnt:60, single_commands0\n",
      "user 10 finished, cnt:60, single_commands0\n",
      "user 10 finished, cnt:60, single_commands0\n",
      "user 10 finished, cnt:60, single_commands0\n",
      "user 11 finished, cnt:60, single_commands0\n",
      "user 11 finished, cnt:60, single_commands0\n",
      "user 13 finished, cnt:60, single_commands0\n",
      "user 13 finished, cnt:60, single_commands0\n",
      "user 13 finished, cnt:60, single_commands0\n",
      "user 13 finished, cnt:60, single_commands0\n",
      "user 14 finished, cnt:60, single_commands0\n",
      "user 14 finished, cnt:60, single_commands0\n",
      "user 15 finished, cnt:60, single_commands0\n",
      "user 15 finished, cnt:60, single_commands0\n",
      "user 15 finished, cnt:60, single_commands0\n",
      "user 15 finished, cnt:60, single_commands0\n",
      "user 16 finished, cnt:60, single_commands0\n",
      "user 16 finished, cnt:60, single_commands0\n",
      "user 17 finished, cnt:60, single_commands0\n",
      "user 17 finished, cnt:60, single_commands0\n",
      "user 17 finished, cnt:60, single_commands0\n",
      "user 17 finished, cnt:60, single_commands0\n",
      "user 17 finished, cnt:60, single_commands0\n",
      "user 18 finished, cnt:60, single_commands0\n",
      "user 20 finished, cnt:60, single_commands0\n",
      "user 21 finished, cnt:60, single_commands0\n",
      "user 22 finished, cnt:60, single_commands0\n",
      "user 22 finished, cnt:60, single_commands0\n"
     ]
    },
    {
     "ename": "KeyboardInterrupt",
     "evalue": "",
     "output_type": "error",
     "traceback": [
      "\u001b[0;31m---------------------------------------------------------------------------\u001b[0m",
      "\u001b[0;31mKeyboardInterrupt\u001b[0m                         Traceback (most recent call last)",
      "\u001b[1;32m/Users/thuzyh/Documents/hci/Inception/annotation/test_question_generate.ipynb 单元格 3\u001b[0m in \u001b[0;36m9\n\u001b[1;32m      <a href='vscode-notebook-cell:/Users/thuzyh/Documents/hci/Inception/annotation/test_question_generate.ipynb#W2sZmlsZQ%3D%3D?line=6'>7</a>\u001b[0m \u001b[39mwith\u001b[39;00m \u001b[39mopen\u001b[39m (\u001b[39m'\u001b[39m\u001b[39mdata/selected/\u001b[39m\u001b[39m{}\u001b[39;00m\u001b[39m.txt\u001b[39m\u001b[39m'\u001b[39m\u001b[39m.\u001b[39mformat(user_id), \u001b[39m'\u001b[39m\u001b[39mw\u001b[39m\u001b[39m'\u001b[39m,encoding\u001b[39m=\u001b[39m\u001b[39m'\u001b[39m\u001b[39mutf-8\u001b[39m\u001b[39m'\u001b[39m) \u001b[39mas\u001b[39;00m f:\n\u001b[1;32m      <a href='vscode-notebook-cell:/Users/thuzyh/Documents/hci/Inception/annotation/test_question_generate.ipynb#W2sZmlsZQ%3D%3D?line=7'>8</a>\u001b[0m     \u001b[39mfor\u001b[39;00m i \u001b[39min\u001b[39;00m \u001b[39mrange\u001b[39m(\u001b[39m120\u001b[39m):\n\u001b[0;32m----> <a href='vscode-notebook-cell:/Users/thuzyh/Documents/hci/Inception/annotation/test_question_generate.ipynb#W2sZmlsZQ%3D%3D?line=8'>9</a>\u001b[0m         question \u001b[39m=\u001b[39m qg\u001b[39m.\u001b[39;49mget_question(user_id)\n\u001b[1;32m     <a href='vscode-notebook-cell:/Users/thuzyh/Documents/hci/Inception/annotation/test_question_generate.ipynb#W2sZmlsZQ%3D%3D?line=9'>10</a>\u001b[0m         \u001b[39m#save to file, each question is a json, so save it in a line and can be parsed into json when read in the line\u001b[39;00m\n\u001b[1;32m     <a href='vscode-notebook-cell:/Users/thuzyh/Documents/hci/Inception/annotation/test_question_generate.ipynb#W2sZmlsZQ%3D%3D?line=10'>11</a>\u001b[0m         f\u001b[39m.\u001b[39mwrite(json\u001b[39m.\u001b[39mdumps(question, ensure_ascii\u001b[39m=\u001b[39m\u001b[39mFalse\u001b[39;00m)\u001b[39m+\u001b[39m\u001b[39m\"\u001b[39m\u001b[39m\\n\u001b[39;00m\u001b[39m\"\u001b[39m)\n",
      "File \u001b[0;32m~/Documents/hci/Inception/annotation/question_generater.py:256\u001b[0m, in \u001b[0;36mQuestionGenerator.get_question\u001b[0;34m(self, user_id)\u001b[0m\n\u001b[1;32m    254\u001b[0m random_number \u001b[39m=\u001b[39m random\u001b[39m.\u001b[39mrandom()\n\u001b[1;32m    255\u001b[0m \u001b[39mif\u001b[39;00m random_number\u001b[39m<\u001b[39m\u001b[39m0.6\u001b[39m:\n\u001b[0;32m--> 256\u001b[0m     \u001b[39mreturn\u001b[39;00m \u001b[39mself\u001b[39;49m\u001b[39m.\u001b[39;49mget_1v1_question(user_id)\n\u001b[1;32m    257\u001b[0m \u001b[39melif\u001b[39;00m random_number\u001b[39m<\u001b[39m\u001b[39m0.8\u001b[39m:\n\u001b[1;32m    258\u001b[0m     \u001b[39mreturn\u001b[39;00m \u001b[39mself\u001b[39m\u001b[39m.\u001b[39mget_nv1_question(user_id,\u001b[39m3\u001b[39m)\n",
      "File \u001b[0;32m~/Documents/hci/Inception/annotation/question_generater.py:158\u001b[0m, in \u001b[0;36mQuestionGenerator.get_1v1_question\u001b[0;34m(self, user_id)\u001b[0m\n\u001b[1;32m    156\u001b[0m instance_ability_list \u001b[39m=\u001b[39m \u001b[39mself\u001b[39m\u001b[39m.\u001b[39mget_instance_ability_ancestor_list(instance_id)\n\u001b[1;32m    157\u001b[0m \u001b[39mfor\u001b[39;00m index \u001b[39min\u001b[39;00m picked_index_list:\n\u001b[0;32m--> 158\u001b[0m     expression_ability_list \u001b[39m=\u001b[39m \u001b[39mself\u001b[39;49m\u001b[39m.\u001b[39;49mget_instance_ability_ancestor_list(index)\n\u001b[1;32m    159\u001b[0m     score \u001b[39m=\u001b[39m \u001b[39m0\u001b[39m\n\u001b[1;32m    160\u001b[0m     temp_ability_pair_freq \u001b[39m=\u001b[39m \u001b[39mself\u001b[39m\u001b[39m.\u001b[39mability_pair_freq\u001b[39m.\u001b[39mcopy()\n",
      "File \u001b[0;32m~/Documents/hci/Inception/annotation/question_generater.py:54\u001b[0m, in \u001b[0;36mQuestionGenerator.get_instance_ability_ancestor_list\u001b[0;34m(self, idx)\u001b[0m\n\u001b[1;32m     52\u001b[0m ancestor_list \u001b[39m=\u001b[39m []\n\u001b[1;32m     53\u001b[0m \u001b[39mfor\u001b[39;00m ability \u001b[39min\u001b[39;00m ability_list:\n\u001b[0;32m---> 54\u001b[0m     ancestor_list\u001b[39m.\u001b[39mextend(\u001b[39mself\u001b[39;49m\u001b[39m.\u001b[39;49mget_ancestor_list(ability))\n\u001b[1;32m     55\u001b[0m \u001b[39mreturn\u001b[39;00m ancestor_list\n",
      "File \u001b[0;32m~/Documents/hci/Inception/annotation/question_generater.py:69\u001b[0m, in \u001b[0;36mQuestionGenerator.get_ancestor_list\u001b[0;34m(self, ability_name)\u001b[0m\n\u001b[1;32m     67\u001b[0m                 \u001b[39mreturn\u001b[39;00m \u001b[39mTrue\u001b[39;00m\n\u001b[1;32m     68\u001b[0m     \u001b[39mreturn\u001b[39;00m \u001b[39mFalse\u001b[39;00m\n\u001b[0;32m---> 69\u001b[0m traverse_tree(\u001b[39mself\u001b[39;49m\u001b[39m.\u001b[39;49mability_tree)\n\u001b[1;32m     70\u001b[0m ancestor_list\u001b[39m.\u001b[39mappend(\u001b[39m\"\u001b[39m\u001b[39m能力\u001b[39m\u001b[39m\"\u001b[39m)\n\u001b[1;32m     71\u001b[0m \u001b[39m#print(ancestor_list)\u001b[39;00m\n",
      "File \u001b[0;32m~/Documents/hci/Inception/annotation/question_generater.py:65\u001b[0m, in \u001b[0;36mQuestionGenerator.get_ancestor_list.<locals>.traverse_tree\u001b[0;34m(node)\u001b[0m\n\u001b[1;32m     63\u001b[0m \u001b[39mif\u001b[39;00m \u001b[39m\"\u001b[39m\u001b[39mchildren\u001b[39m\u001b[39m\"\u001b[39m \u001b[39min\u001b[39;00m node:\n\u001b[1;32m     64\u001b[0m     \u001b[39mfor\u001b[39;00m child \u001b[39min\u001b[39;00m node[\u001b[39m\"\u001b[39m\u001b[39mchildren\u001b[39m\u001b[39m\"\u001b[39m]:\n\u001b[0;32m---> 65\u001b[0m         \u001b[39mif\u001b[39;00m traverse_tree(child):\n\u001b[1;32m     66\u001b[0m             ancestor_list\u001b[39m.\u001b[39mappend(child[\u001b[39m\"\u001b[39m\u001b[39mname\u001b[39m\u001b[39m\"\u001b[39m])\n\u001b[1;32m     67\u001b[0m             \u001b[39mreturn\u001b[39;00m \u001b[39mTrue\u001b[39;00m\n",
      "File \u001b[0;32m~/Documents/hci/Inception/annotation/question_generater.py:65\u001b[0m, in \u001b[0;36mQuestionGenerator.get_ancestor_list.<locals>.traverse_tree\u001b[0;34m(node)\u001b[0m\n\u001b[1;32m     63\u001b[0m \u001b[39mif\u001b[39;00m \u001b[39m\"\u001b[39m\u001b[39mchildren\u001b[39m\u001b[39m\"\u001b[39m \u001b[39min\u001b[39;00m node:\n\u001b[1;32m     64\u001b[0m     \u001b[39mfor\u001b[39;00m child \u001b[39min\u001b[39;00m node[\u001b[39m\"\u001b[39m\u001b[39mchildren\u001b[39m\u001b[39m\"\u001b[39m]:\n\u001b[0;32m---> 65\u001b[0m         \u001b[39mif\u001b[39;00m traverse_tree(child):\n\u001b[1;32m     66\u001b[0m             ancestor_list\u001b[39m.\u001b[39mappend(child[\u001b[39m\"\u001b[39m\u001b[39mname\u001b[39m\u001b[39m\"\u001b[39m])\n\u001b[1;32m     67\u001b[0m             \u001b[39mreturn\u001b[39;00m \u001b[39mTrue\u001b[39;00m\n",
      "    \u001b[0;31m[... skipping similar frames: QuestionGenerator.get_ancestor_list.<locals>.traverse_tree at line 65 (1 times)]\u001b[0m\n",
      "File \u001b[0;32m~/Documents/hci/Inception/annotation/question_generater.py:65\u001b[0m, in \u001b[0;36mQuestionGenerator.get_ancestor_list.<locals>.traverse_tree\u001b[0;34m(node)\u001b[0m\n\u001b[1;32m     63\u001b[0m \u001b[39mif\u001b[39;00m \u001b[39m\"\u001b[39m\u001b[39mchildren\u001b[39m\u001b[39m\"\u001b[39m \u001b[39min\u001b[39;00m node:\n\u001b[1;32m     64\u001b[0m     \u001b[39mfor\u001b[39;00m child \u001b[39min\u001b[39;00m node[\u001b[39m\"\u001b[39m\u001b[39mchildren\u001b[39m\u001b[39m\"\u001b[39m]:\n\u001b[0;32m---> 65\u001b[0m         \u001b[39mif\u001b[39;00m traverse_tree(child):\n\u001b[1;32m     66\u001b[0m             ancestor_list\u001b[39m.\u001b[39mappend(child[\u001b[39m\"\u001b[39m\u001b[39mname\u001b[39m\u001b[39m\"\u001b[39m])\n\u001b[1;32m     67\u001b[0m             \u001b[39mreturn\u001b[39;00m \u001b[39mTrue\u001b[39;00m\n",
      "File \u001b[0;32m~/Documents/hci/Inception/annotation/question_generater.py:59\u001b[0m, in \u001b[0;36mQuestionGenerator.get_ancestor_list.<locals>.traverse_tree\u001b[0;34m(node)\u001b[0m\n\u001b[1;32m     57\u001b[0m \u001b[39mdef\u001b[39;00m \u001b[39mget_ancestor_list\u001b[39m(\u001b[39mself\u001b[39m,ability_name):\n\u001b[1;32m     58\u001b[0m     ancestor_list \u001b[39m=\u001b[39m []\n\u001b[0;32m---> 59\u001b[0m     \u001b[39mdef\u001b[39;00m \u001b[39mtraverse_tree\u001b[39m(node):\n\u001b[1;32m     60\u001b[0m         \u001b[39mif\u001b[39;00m node[\u001b[39m\"\u001b[39m\u001b[39mname\u001b[39m\u001b[39m\"\u001b[39m]\u001b[39m==\u001b[39mability_name:\n\u001b[1;32m     61\u001b[0m             \u001b[39m#ancestor_list.append(node[\"name\"])\u001b[39;00m\n\u001b[1;32m     62\u001b[0m             \u001b[39mreturn\u001b[39;00m \u001b[39mTrue\u001b[39;00m\n",
      "\u001b[0;31mKeyboardInterrupt\u001b[0m: "
     ]
    }
   ],
   "source": [
    "import json\n",
    "\n",
    "\n",
    "for i in range(100):\n",
    "    user_id = str(i)\n",
    "    # output txt containing chinese\n",
    "    with open ('data/selected/{}.txt'.format(user_id), 'w',encoding='utf-8') as f:\n",
    "        for i in range(120):\n",
    "            question = qg.get_question(user_id)\n",
    "            #save to file, each question is a json, so save it in a line and can be parsed into json when read in the line\n",
    "            f.write(json.dumps(question, ensure_ascii=False)+\"\\n\")"
   ]
  },
  {
   "cell_type": "code",
   "execution_count": null,
   "metadata": {},
   "outputs": [],
   "source": []
  }
 ],
 "metadata": {
  "kernelspec": {
   "display_name": "hci",
   "language": "python",
   "name": "python3"
  },
  "language_info": {
   "codemirror_mode": {
    "name": "ipython",
    "version": 3
   },
   "file_extension": ".py",
   "mimetype": "text/x-python",
   "name": "python",
   "nbconvert_exporter": "python",
   "pygments_lexer": "ipython3",
   "version": "3.9.13"
  },
  "orig_nbformat": 4
 },
 "nbformat": 4,
 "nbformat_minor": 2
}
