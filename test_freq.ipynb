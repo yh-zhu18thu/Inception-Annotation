{
 "cells": [
  {
   "cell_type": "code",
   "execution_count": 2,
   "metadata": {},
   "outputs": [],
   "source": [
    "import pandas as pd\n",
    "import numpy as np"
   ]
  },
  {
   "cell_type": "code",
   "execution_count": 3,
   "metadata": {},
   "outputs": [],
   "source": [
    "#read in tagged data\n",
    "instance_dataset_path = \"src/instances_Robuddy_with_tag.csv\"\n",
    "df = pd.read_csv(instance_dataset_path)\n",
    "instance_cnt = len(df)"
   ]
  },
  {
   "cell_type": "code",
   "execution_count": 4,
   "metadata": {},
   "outputs": [],
   "source": [
    "# save instance freq\n",
    "import os\n",
    "import pickle\n",
    "# if instance freq not exists\n",
    "if not os.path.exists(\"statistics/instance_freq.pkl\"):\n",
    "    instance_freq = np.zeros(instance_cnt,dtype=np.int32)\n",
    "    with open(\"statistics/instance_freq.pkl\",'wb') as f:\n",
    "        pickle.dump(instance_freq,f)\n",
    "else:\n",
    "    with open(\"statistics/instance_freq.pkl\",'rb') as f:\n",
    "        instance_freq = pickle.load(f)"
   ]
  },
  {
   "cell_type": "code",
   "execution_count": null,
   "metadata": {},
   "outputs": [],
   "source": [
    "# load the ability-index dict\n",
    "import json\n",
    "\n",
    "ability_index_dict = {}\n",
    "ability_json_file = \"src/ability_mindmap.json\"\n",
    "with open(ability_json_file,'r') as f:\n",
    "    ability_tree = json.load(f)\n",
    "\n",
    "index = 0   \n",
    "\n",
    "def traverse_ability_tree(node):\n",
    "    ability_index_dict[node[\"name\"]] = index\n",
    "    index += 1\n",
    "    if \"children\" in node:\n",
    "        for child in node[\"children\"]:\n",
    "            traverse_ability_tree(child)\n",
    "\n",
    "traverse_ability_tree(ability_tree)"
   ]
  },
  {
   "cell_type": "code",
   "execution_count": null,
   "metadata": {},
   "outputs": [],
   "source": [
    "# init ability data\n",
    "if os.path.exists(\"statistics/ability_pair_ref.pickle\"):\n",
    "    with open(\"statistics/ability_pair_ref.pickle\",'rb') as f:\n",
    "        ability_pair_ref = pickle.load(f)\n",
    "else:\n",
    "    # first calculate the tagged ability appearances in raw df\n",
    "    ability_freq = {} \n",
    "    for i in range(len(df)):\n",
    "        abilities = df.iloc[i][\"annotation\"]\n",
    "        ability_list = abilities.split(\",\")\n",
    "        for ability in ability_list:\n",
    "            if ability not in ability_freq:\n",
    "                ability_freq[ability] = 0\n",
    "            ability_freq[ability] += 1\n",
    "        \n",
    "    def add_freq_to_parent(node):\n",
    "        if \"children\" in node:\n",
    "            for child in node[\"children\"]:\n",
    "                add_freq_to_parent(child)\n",
    "                ability_freq[node[\"name\"]] = ability_freq.get(node[\"name\"],0) + ability_freq.get(child[\"name\"],0)\n",
    "        else:\n",
    "            ability_freq[node[\"name\"]] = ability_freq.get(node[\"name\"],0)\n",
    "    \n",
    "    add_freq_to_parent(ability_tree)\n",
    "\n",
    "    # then calculate the ability pair frequency\n",
    "    ability_pair_ref = np.zeros((len(ability_index_dict),len(ability_index_dict)),dtype=np.float32)\n",
    "    for ability,index in ability_index_dict.items():\n",
    "        for ability_2,index_2 in ability_index_dict.items():\n",
    "            ability_pair_ref[index][index_2] = ability*ability_2\n",
    "    # normalize\n",
    "    ability_pair_freq = ability_pair_ref/np.sum(ability_pair_ref)\n",
    "    with open(\"statistics/ability_pair_ref.pickle\",'wb') as f:\n",
    "        pickle.dump(ability_pair_ref,f)"
   ]
  },
  {
   "cell_type": "code",
   "execution_count": 5,
   "metadata": {},
   "outputs": [],
   "source": [
    "#  load ability pair data:\n",
    "if os.path.exists(\"statistics/ability_pair_freq.pickle\"):\n",
    "    with open(\"statistics/ability_pair_freq.pickle\",'rb') as f:\n",
    "        ability_pair_freq = pickle.load(f)\n",
    "else:\n",
    "    ability_pair_freq = np.zeros((len(ability_index_dict),len(ability_index_dict)),dtype=np.int32)\n",
    "    with open(\"statistics/ability_pair_freq.pickle\",'wb') as f:\n",
    "        pickle.dump(ability_pair_freq,f)"
   ]
  }
 ],
 "metadata": {
  "kernelspec": {
   "display_name": "hci",
   "language": "python",
   "name": "python3"
  },
  "language_info": {
   "codemirror_mode": {
    "name": "ipython",
    "version": 3
   },
   "file_extension": ".py",
   "mimetype": "text/x-python",
   "name": "python",
   "nbconvert_exporter": "python",
   "pygments_lexer": "ipython3",
   "version": "3.9.13"
  },
  "orig_nbformat": 4
 },
 "nbformat": 4,
 "nbformat_minor": 2
}
